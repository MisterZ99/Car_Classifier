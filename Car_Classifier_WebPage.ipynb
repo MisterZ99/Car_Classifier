{
  "nbformat": 4,
  "nbformat_minor": 0,
  "metadata": {
    "colab": {
      "name": "Car_Classifier - WebPage.ipynb",
      "provenance": [],
      "collapsed_sections": []
    },
    "kernelspec": {
      "name": "python3",
      "display_name": "Python 3"
    },
    "language_info": {
      "name": "python"
    },
    "widgets": {
      "application/vnd.jupyter.widget-state+json": {
        "fa87190f92d742fba894835710eb76c0": {
          "model_module": "@jupyter-widgets/controls",
          "model_name": "VBoxModel",
          "model_module_version": "1.5.0",
          "state": {
            "_dom_classes": [],
            "_model_module": "@jupyter-widgets/controls",
            "_model_module_version": "1.5.0",
            "_model_name": "VBoxModel",
            "_view_count": null,
            "_view_module": "@jupyter-widgets/controls",
            "_view_module_version": "1.5.0",
            "_view_name": "VBoxView",
            "box_style": "",
            "children": [
              "IPY_MODEL_14d1efabbe1f463181acb87d0f9fc501",
              "IPY_MODEL_a34cdc9943cf450cb623f59b62c94769",
              "IPY_MODEL_f083cd022bb14f81824903777e6c50f0",
              "IPY_MODEL_10b7be4bd93b4aaa882d58853f0a26d4",
              "IPY_MODEL_891bf72d1816478f9f47bb26744a4404"
            ],
            "layout": "IPY_MODEL_b899c0716d014bfba2f1285248c93277"
          }
        },
        "14d1efabbe1f463181acb87d0f9fc501": {
          "model_module": "@jupyter-widgets/controls",
          "model_name": "LabelModel",
          "model_module_version": "1.5.0",
          "state": {
            "_dom_classes": [],
            "_model_module": "@jupyter-widgets/controls",
            "_model_module_version": "1.5.0",
            "_model_name": "LabelModel",
            "_view_count": null,
            "_view_module": "@jupyter-widgets/controls",
            "_view_module_version": "1.5.0",
            "_view_name": "LabelView",
            "description": "",
            "description_tooltip": null,
            "layout": "IPY_MODEL_052b8ede53f44e2b9bbceecb1c8b09ea",
            "placeholder": "​",
            "style": "IPY_MODEL_dda8fae867db4987b66f68ca53c5360e",
            "value": "Select your car!"
          }
        },
        "a34cdc9943cf450cb623f59b62c94769": {
          "model_module": "@jupyter-widgets/controls",
          "model_name": "FileUploadModel",
          "model_module_version": "1.5.0",
          "state": {
            "_counter": 1,
            "_dom_classes": [],
            "_model_module": "@jupyter-widgets/controls",
            "_model_module_version": "1.5.0",
            "_model_name": "FileUploadModel",
            "_view_count": null,
            "_view_module": "@jupyter-widgets/controls",
            "_view_module_version": "1.5.0",
            "_view_name": "FileUploadView",
            "accept": "",
            "button_style": "",
            "data": [
              null
            ],
            "description": "Upload",
            "description_tooltip": null,
            "disabled": false,
            "error": "",
            "icon": "upload",
            "layout": "IPY_MODEL_df10372921a64ff49014ec0b729308f1",
            "metadata": [
              {
                "name": "nobre.jpg",
                "type": "image/jpeg",
                "size": 52933,
                "lastModified": 1651849792615
              }
            ],
            "multiple": false,
            "style": "IPY_MODEL_ea3d55d04bcd4c7b858987dffdd6abba"
          }
        },
        "f083cd022bb14f81824903777e6c50f0": {
          "model_module": "@jupyter-widgets/controls",
          "model_name": "ButtonModel",
          "model_module_version": "1.5.0",
          "state": {
            "_dom_classes": [],
            "_model_module": "@jupyter-widgets/controls",
            "_model_module_version": "1.5.0",
            "_model_name": "ButtonModel",
            "_view_count": null,
            "_view_module": "@jupyter-widgets/controls",
            "_view_module_version": "1.5.0",
            "_view_name": "ButtonView",
            "button_style": "",
            "description": "Classify",
            "disabled": false,
            "icon": "",
            "layout": "IPY_MODEL_01f471cd18f24a238db7db8c587eb157",
            "style": "IPY_MODEL_a53411bb4f434f4f881d6e91ebde98d6",
            "tooltip": ""
          }
        },
        "10b7be4bd93b4aaa882d58853f0a26d4": {
          "model_module": "@jupyter-widgets/output",
          "model_name": "OutputModel",
          "model_module_version": "1.0.0",
          "state": {
            "_dom_classes": [],
            "_model_module": "@jupyter-widgets/output",
            "_model_module_version": "1.0.0",
            "_model_name": "OutputModel",
            "_view_count": null,
            "_view_module": "@jupyter-widgets/output",
            "_view_module_version": "1.0.0",
            "_view_name": "OutputView",
            "layout": "IPY_MODEL_afbbae1eea054209969610fa333fbd87",
            "msg_id": "",
            "outputs": [
              {
                "output_type": "display_data",
                "data": {
                  "text/plain": "<PIL.Image.Image image mode=RGB size=128x85 at 0x7FAF98C78ED0>",
                  "image/png": "iVBORw0KGgoAAAANSUhEUgAAAIAAAABVCAIAAAAOr3sAAABRnElEQVR4nH39ebRk2VUfCO+9zzl3iuHFm/LlyzmrsuZSqVSaZwkwk2QBtls2uIUNbnA3Bk/djRt/dn+m2+CGBU33wl5uLy/MjBuQkEEghARIlIYqlVSDaq6snPO9l2+MF+Odztl7f3/ciFcp4PP9IzMi3o0b9+59zp73b+OnHv8iIsL8UAABBABVAAVVBRAAEFWF5i3A/AUqAoAiAODRmc2BqiggiIDNyTr7FiIA4G1nHl3z9uPoQwNm/rb5CgLgnzsXQImIwDTvCQTnx+xmEBFR5zdj5ldg0KMTvv42UAQAIYTa+0BELnKEAArwF878c89+OzGbO0dECygASF/3p+Y2rIg032lObRgw/w1VUbmNIrf/CwDYkFVwfkdz9iCgKDSnKag2lMfXGNB8Q1Xn5PwLbJgRuvn92/6qAHr7QzYvRQQQERAAGBUBCJD0tTP19kscvcS/8EnzlgBUDnZ2r77y0ng4TJLkxJnTJ86es0kK82vOSfHaU/+ll3rtQ4SGCLObnp9lWWT+FAAgCiizq6iogILOf09lTl8ABUXQGQP06CGbi6OgggKq4mvPjaoK+tr15jRpiAZ/2W0DAMhrVML5jzccnRHitVsXQUBEBMQjuhACAs5P1vmSmH0Jv554iMgcyrzQ4A92dl989rnD3W1hts7WxbS3stJNU1D4C4sGAbT5GOd/+XNXni9nRcTgg6/LNGsBGgWxQWdfoGapggg01J9RTf/8GgRBVVWE26TL0Za47Re/nqTN5Y6oKEc3pDPqH0kzMIqKenQRne3r25h525aVuTAjwtnKmAtGQVAAAiXAo28e7ceGaErNCwXVyXCwtXF95+aN6SQfjcfWmCRLvfe9xcWT5+5wraxhOOOc1kgqigAiohoMRqAeyBAh6NeJNUEgBQJAhcH+wdaVl+59+M2t7kI5HlkQaZ6TZSb2pbkzhIb0Mn/EGb2+XgwpAM5WPqAcLdbb9wrgXMgeMeBIYjZruSEgAgo2PzFj3u0CBP6y43aWzNQS4vw+59IJYHY9mW84bSgICqCeVcVYPNjZfemrTx7u3eJQFTUH1jRNPQdkrUYTX1Ykmk+mcRSTswrgi3I6OnTWEVlRSdotX+bXLj7vnD1+9nzW7c13x9FuQ0RQUa6qcjIupyNF3r921YJvGDDf2s120rn4wLlw0JkI0bl2hpkwxpkKkLl0uU3HKmLDS4Gv001zYh1tAkUQ0ZnyZ1VoVhnSjHY4/zUAmqmoGYl1ZgQYnSszvE2sKQg1dyOIiMJ+cLCfdbpJnAYERCxG4/HwMGkn1y6/sr9zS0UETBpHeVlOJhMlTMhWk8mNl56PY8o6y4urqxZcMR5fu/jSretXjq2tL60ci+PY593Dg4PNGzdSwla7Y6OYg1pnAGB0OGi1W0mcAKCItBLXjpNnvvyYcshHQwuiR8vwNeqq6m1bfr5Um8ebCZAjSirNJOttK59npIC5zjmSg1/HgCNtpoqqQgCA2CxUVSVEEDxSFAyABIBADZdVQURFOR8OTBS1O11QVAAiIjUEIAhSV+PDw3Sha5NMRSWEcjolgGIwyBZ7ynLllRc3r152jqZ5CYBl4Dp4FA3CqXVkrCUglbLKp6Nhr7e6feNqf29ncnjYP9hPjaHAxXAwKsrh6DBKsvOnTltLUNebL70YO3Py5PHhZLx16Vqv1xuXhffBOcdlPukf7NzazCsmQ1aksTBnokZUZbbadb765XYG6Nz6fI2e0rzShjSNQEWk1ywWncllONIBNKMxIgpLHbxnVkUCJFRCQkJjyBgEJJhZTNyYkjMRPDMAgOtq+8Z1lfr8va+LkxQRFTVUtS/KqJUq+/7O9opF7/3+rU0UcVFajAb97d3F5aWirC69+HyVT5BMYF3IWs4Ai4ooqDKzsgoqGe11FhIXX7343PaNm1DVlXhGYnKXr145sba6vtRjH1mrKVRXrmyVRe2ieFpMXnreAASu/OZVmlRFK0urqirKwkU2cmbBxVVdW2ae03d2SLMbRG6nsmpjHzVinRqDBlQRULGRGKDNCQoIhCCAoI05BEiN6BUAFVFFAiICRO+5yKva+9DI5ZkEREQiZyOnSeysNUjNZYWIiBBBVXQ6ngJiqKt8Mq4mg5tkXZotLa8sLC0f7u/dfPXVY+snjp06sbDYK8bjq68+PdnftRbIUBLHZRH621t55UNZEBklSo2sLaSri+sLK4tPP39xY2fPOEyNNYaquqjy/PJLrxAXC3ESIgc+1F5ExVq70E5tHE12ai7zvb3dnYORIWtdtHd44ENYXuykxgJFlqyLYl8HUM1Lv3Zi/c6zJwnAqmqzCXRO9+aVvMaAudDAmVlyZPfjkSkMjRaYSXaUgDM7REAVlEDIB++DMKuIEIFzDgDqOoQgqqQ4s2FDWUz2thAkXToepe288MaiRYAQANE6h1JVxbQu8sloiIDFZDLuD2Jrbrz0MisfP358/dT64WF/vLOVUkjriYZqfzy6df1mRCgOXUTOSuXLYal1HVDYWLBGhGnvYBhYcpC6nB7vtRZ6nbLiNG2FEEaT6aTI22mkaTwZVxS3kxgw+OVee7HdddaAL3f7w53hqPSCAqfWV+44dXxnf5S5dHVpofJMJlrstdorbV8vvHJ5QwcDXFtcXlu3InLEgCPZP7P7v54HtzFgrgxUVYHnF5AjZvBs4wRhVVBAERURZObai7AoO+e898YYa2NVEPWGTGCWsvTjQVWMwDibpL7yOq61nKaSVwGmRemLoXIA5aKskjjO82lVVsElKiK+3N+8Oti9CcbGNt3b3CwPbrXavd3+AEUCqK84Buvj5KF7zgYTX7y2fePGTYPkXBQAilCPd2/B3mbqktXlFe9rNMmZ83c458BXZTl56fK1nb19a0xm8VjkHrhrHR1d297b2DkYTPJ+XlZ+ZjIUpb82HQ3Head7ZnV19eWLl+IsS5LOchxv3Ng7s5ie6nW0nt64esWKsqqKivJ87Suo8BE1jxTra9YFNl8QH6QKHLyC4ExpHMmgRlUws2hg7+scfKimY6kqG8dqgIA0SFWOENTaxMbG2KgO4qup1FUxGff8xNTj0c7G4c6uLyedVsKeB5NJFkdLvYWyrsrJ2IQKxYMGHzT4ACLORQSmKAM7r1yHoBMlL5rG6EMVRIrCh87C8fUTTz3/yv7+rjUSW9ftdMu6Lvpj9nUS2cjh/uFhVYflJer3+7VUp1baJ9YWJoPui4cHZV0ZX63cceLUsXR9een+M8f+6Am+fGt3WnoViGMTO8chjHMfADa2d4ajUfA1Dvq3dq4e70RB5OzxtXP3nTl2bO3KVt8KB1UVaTSOiDRWIKsSKAEANV4QqGhQxRCUFVXEew4sPDeNGgEyd06VgDTwaLhfD/aq6TBqL5goq/Jxd2E57iyq8rC/lyaOi1BNBzZpA0c7h/0A5FAdGQ3lUlSYw0uhv10cTkJgrovEWRROkziJXV3lBs20qBIDCVBgAUM2inwIIYTaYAwaGQJrqmllCCJrQNAzjqcy3djf2//scDJNnSNAH0J/MJnkxSivrMEs0siaNOuMppOyyi+9+krli912utppjXLfH9cEQG36yrWNy7d27j61xmRe3tgw1rdirb1kDtMYImOE7bhSCWE8GVmwSRRJXe73iyxJhqN8VHM4HD3+3EWbj4d5ngMRRqmw+BBYNIqMITMzwbXRiVgx17VwgJmVDoIgANQEYWYeECCC1sVYEcuiAF+KBFVsd5arupgMD4FMW7z4YLiup+PTmeu0FxPwD55e/MzF8uWd8XKvkxcFqt3ZPiCWqpbAIoRZkqyt9vrD4sT68YVOyxJYiouakwiUZTTNua6JxBhS0G5Ep5a7RVHWiBVKWdVkjPfRdJrntUfvi0JbSWRtLHUlAKPBtKwDWTBEpaCrJEa2FpMksiRL7eiuU6uI7uqLV0rRLCIQqGo70nDx+q29iUz9NIvEEyTOxEaJc0s+s5SXQOizWEBIWRKDxiZVcNd2x4dfeOrEseW8Evvkl74wPjyM253e6om0u2TilgBQ7okQwCFKY+qQQW7Ug4KZBxoVCAEAGZFADRICKigIh4oDAQNaY1PAvL+7paHEqhhuXMVe21nnfajq6s13H3/f3ecODkdpHHXTGLVf5JOIzEI382rGk7woa1YG1P5oOM6nK6uraKjwodPppM5u7Q+KWojQuIi8IFDWyuI4ratqWAUgE0IoqqKqA9qsYrXWJYKegyOy5JBoaWkZRIv60EaBiCyQCE2L2sv01EqnnWAZydry0sJib2v3INS+ZSGxosCC7FXGFYCJM0oMlMZY46IssoF9XldlzRwYQWOnpZdRXS+1W2UpQRVRq2rgi4JsZjevXVfQKJ8OD3YXjp9fXj9V5ZNiOk7jNFtcCXVJZNN2zws1AV1VBQGcxTMBAZBAiQGCBgAAIrJxR6ppVQxRNR/u+elhDS7Pi5TAIHItkTMuMoBGrb140P/ypYOtg1EdRAUGeUWWQDHPi7qqRZUIEZs4CebT8tatXRZuJTH7qigKAVJFAI0Tx4G9Z9GqqqrBeCKAZAwCEBlQTZM4ltg5npQFKItwnCQ2scPRtAiBiAgJkZy1iBhb002M41K8T6PkYJgfjIp2ZJ1YIPWBAzAaq0jdVlp6Mx77Vpy2oiSNaFARoTWmBBtGuSqbovK5mChJCEBUIjARJXWtw+EIv+Pbv8UmTuvAKFm7h4aq8Qg1uCgSl6GE3tKxtTMX1MYMSk3IRRqtIcxsnUNmX+VFPrHG9HqL1tkQWMrJ+HBPOewfHMQkDDgtKuVaRMlYaywiIlHqsBZ1SAAgwTMrKzKKCpRVTYiECKREiABxFKVx3F3oImhRVnmeI6oCqahz1jiqS2ZBAbXWAiihdLPUEIymJbmkm6bjyaTyktdVCJUlNKSqVFY8rqoscbExhEiGDFGSprERDGU3i7u9lc3d/VFRkyig8cyqKqiRJWQPijULoi61MgtUCyjxuV4GpFd3R5c2Jvt5CKLO6NpCFhlAJDIGofYi0ylbMNROoqTTPnd6sZ0mz72yNcin3VbWyuLJeFqUFXBwzpooLYppmiRIxCHUVS0cyrLMOl1fleV4QMwujnjcMcZIXdfeI6BocAaDYFlUrCwM1hpjVLj2QQJQYWwrdiaioi4NIBGCchpZEIltbAmtQR8kKNTBp5FbW1xY7LZPrq9NiuL5i1fGk7xx65I0MtYCekuu1W5Np9M6+HYWP3R2re3wyn4xYVPmORBEsUVkb1RBlTg2zlpLFskAARiyAUhBKl/WQVJD/TzsjbackchB5Y01ZiGLjx87dnNna1qWCLbyNREuRLER9qo5SydOSLSqwnKStM+ll3cnvW56z7ljdeCd/X5V8rAqNOhSFhvx9sLx3vFjx65u7S6k8cpS+zluYgJkyZ49s761uTsYDH35KgCwcOQcIIo0qQJBgGJ0ICKkwVqSoq7LnBCbwAYZS0QOJUYkZ3IhJeykSWxIAPLKl947Z1Nns8i2kkTElFWlit6HOvBiO2lnsShVnqsg5IlB96ejcZ2Xvspit9xLk9jVEnwIRMjMiAykiBkRIGJZ47XtsQFeWD124dy5ly9erDgAIBKbgEhmeaG7kJjtw5Gd5tZYa1xko24rAeDhZDypKlZBQAFyznba6fLqiSLPVxYXFhZ6/cnhcq+b57y7f4CIIpizLxUrz4fD4vJGXUtY6qTtNFpYMMsd7abayrqnVrqvXN/ZenUYR2SRnEX70P13XN/av7m7d+PmLUIjoO04AdHB4bAsitrXaJ0P0qQda+9hnt0gQkDiwACo5BgQ0VpnmaUKdWwpSWP2HBFkzqCyr1kMcghR0nZJHHQCQMYag5AmlhnGlS+DVt6TQq/TWuwmluy4CrWEAETWAZGAJM4Jw/5wWnFtjGNBVmRGVTSYAGpR1misQxLQW9NKVBO/uzfMWbyQOIooigxxK6UHTnfPHe9u9Je/enl3Mq2Nda1WdGG9J6pXN4XQsjCDVLWWaKw6BODgXRzb2DlnWmkaWRhPpiGw15oAiWzkTMW5My6CmAUmk3JhodMflf3xzVYUWcHLO31E1+60cq4EBb/3b3xglJeVZ6NorSVCFTZkGkdMVVgB0RhDTTgMAAwiESkAiyAikWkkZxzbNInLshoVeRZFywtd5BCTVqEeFyGA1oLC2krSLHXM4j2HULcT18ri4aQYjouShVDWe+nSQqcOwkGntVQhGOsImSy0kk4riwejcjgtWaAq67pkBLBOCS0KGGctQB1YERTZiwbFyJrURXHkknYaxw60ItUabOqc+Bpdy6tcvbZlASOLwiWiYzBgdKFl252M2Yh4DhWLGoCVxe6Fc6c3Nm6Gug6s4zyvPBdVzTUbQAbxHKwxVWBUUF912qlnHeU1KMeGLFFqnUe1xhRFYfvjUkRBwVqLjdtrKKgIs3MO0QIrEhlj5slttESzyA82qtQQGedc5KywWGsXWqkqFXWIjAYBJRe3E/JsRJnZGkIAIjIGjHVqaJjX05orZWMwdUkdaJB7AASlksVGrttKh2XYnmixNSiqKibsJREklGTRdDxUJEVaWO6eP7m0llJd1w58gqFtgDHa7/fPdQzWRTEe7I70WomjOvKt1vJ4++RKlw2euOfu1bWTz/rDSsVbW2qnCv6PP/elb37nW3rtbH9crJ08dur4Uj0d39gZ9yfTJE3aabbY6e73D2rmJnujaFxMzpgQWGolRGdMK87iaKHmejjIDyd5GjlnHFpTMXtl56yx1sYuQoS6quLYEpFzUV2HvC5dFEfWiSpaJTIGERRoFo1sIg4SRBWQyETOtNIY0FRlkURRFHVG07wKwQdBoDiOQgjORi1LdV0RUWAJIohkydRBai+1F0POESHYkoGrkEVWAIQwa3UA7c7hQT6p2ll07vjShdPHCqGDwSDh6t7lE+P9g3ywy/uHB5tee93djY0HznT3ILsyHN1xdm3/+uHS6W4cmf6tzTtWV2xVl6Q3BC/Adjo62NgsL77wyhUH7bYTSbqRzZLsc1vj/cFoaaF3z/k1h+ba5vbOrd03PXjf21+XvnL9xrX9/pUbG8Px2Nr4zB3nlqb59vYeWfPwQw9Mh4MXX7jIgKtpVLOO6jqztipFkJa6nSgyKlyLVl6K2gdjVRH/5nd80LkohNrFDhFF1HsWEEvGICEiWCREAwCI1tom6GCMAdDah5qVCNtpbAiLmhEhcVaUqrpGRAKx1hJSUVdxHDvEwMGQqUJodzpFkYeyVKSi8grsrAuBVdU5qyLdxKFxGrk0ycqSazVrCza2LkljU41vXbqxczC6df1muryKRMu9NkXZ8MbNxcVFnuR3JJgdW9ybsmEYTMqiHmexq0Z51or3KrGuilhXJoWQG3WWa7LWkFblfn9sgAetpWGki5aytG3CpBchSIjj7EYZHnr9XR96/8Pg61c3djZ2hqVEUbtFZCbjHBUWV5YOh4fbG7eCyKmFlANvFwGEiyInY2JnVUVVkFwILKqtxERRhB/5b/6atVZUgUhVPQcBja2LjCVEYwySEpFBAhSkJgFMq6urrVbr+s0bk2nZzqLIuUlRT8qqlabO0KQskih2RMqBiBCxDB4AIrJkLAuTpXvvu++wf7B94yaSqVmQhAgDc+1ZhYB5pZvZKLFJwqoCtHXl2sNveCC4ZOdW/+DSS2V+KLaNZYjyap398TRKJWn5qVFHo0FkeFwnnqfqLE/LFmGJXHFZdpZeHk1tVVZZd3tpre0n6Xi07LWjHBXDFlmOkg2KJhbd6tJ93/jO5HCIi714ubV588ZzX7v4ys7emTtOf+TD37q+2B5MpuMKJz7UPiCY2tfsGdGgUYuUxKgCZQAwxkpAZdGQJjHMk0iWNHJRkiT497//I00YmoyxziKAM5TECSI2tJunwQibtC8REXU6LePS3d0dQk3jpAoyyPO68pE11hoAsMYigjA3WoKFVdWSscaGEJyj3vKiL8rJpIwMGoN1EBGJnBERL0AI3VYLyTJRENPK4uHe3uWb2we7u+fWzp5UcDevRSNe6G9HdR1TlLA3aOuqUACUQKiEVrhwRNNQVsoLapwv89VetT8oQLYFttPWQbf1nqF/Xd4HIEVUVIYgACUlj8atnfe88/5rg5MHN+uT69kjrw/nTzx77dLzz70qC/G73vTGs2eOe5bAwiyIpCjCgkjMwRqK47iu/LTIAckQAqj3IYnjEIIqNGUTkXNIau+5/0EAVdG6qpxz1lpmVlVQUZE4SbxACL6dJoI4yUtjXDt11mJe8NKxE0lklnpdBS3rUFUhhDqEgCayzhECh6Aq1pqGlxGBJXTOGYRhWWCnt3rcNN518GysjSJjLCFip9OO47h/MIiSOElSX8thtpBf3om2RvHlJ3ZHA9ZpUBNAagQxLiAUda0kIt4hOqWItavaZekRWNaVsmxhiH215INVHwy2xv7JsvjTk3fds13E9aRSDYCswKCA5bvy/Defu3Spd+Ktg83RaDh9+aXq2Llzb38LPfAOPb6gkR+EJECT3UNViBwurnQiS3kZhuPpIK9FI4xiQ6QEZExCxlnbbux/IkMUW1OWhfVRV0WY2ZNBl1QK+8NDFVnotNtZWiHUIK1O5/j6SprY0TgXtXVdtdspjv324YDRdONuElkpPVtOIhfHrq5qVbVEcUTWWmsNGQQAQ4SIsYsIUQcjUaMq47wcjie1BiNGp5olSTuNQ+240GmdLLe6xc72l/70c1954un9g+0KtGJfACkY1MDAgorVVEFBFFARm1qMWYWWQUydWet13yD+7+70V7legKAEwlAauCOUW4NbNyNaK4UBEVVQA6IIk7oPb74Qb7yMCEMzKFRaN4bZ5oth9dSVt7/vkb/1QY1NPpkAUuRs8CFyeseZE63YjvPiYJSXdbBkCDAy5Jxx1hpnELEsq4pFVIuiYjCgEf7kz/07X4cQgrHWWptXdRmECFNn262UjKk8D6cFknXOJkliyEzzqSFigapmIjTGGGMQEAmbPaQqwgrzxO9rGQMVQiJCMkZUmYVFQgjcJCqF0RhjnEMCQkEboW4+/eUvfOp3L2/fqEIIQQCoKUVpSkCNAQC2how1vqpEFBGNQSCDTUUcYOOvZIuL3x4l/0s+PbE/LEmHgBMgACkJL1ncJLeLtA8wQayM8whe9JzWPxS0Jvc/H18djMqVKj/nqweDP4Euuff+M//ovz/9vvdUvmy5iFFFAiEBgveMRCISgi+KqihDUFRhFZ2W9W5/XAYWBhZQFWsIL730jKoyMxoEBAls0KiokrJKmiTe81de3njy8g4LGkNEBsESIRLNVtrMGyAiaqKhcJQimBeuIgKzWALUhtQhcPDeC4emjkcUQJWsCUGtTaPMGZKtp77yuU/9zrXt6xiMzVrJQq+10Eva7bjbardbvXb2tUe/cOvGll3qXbj7rtX1E9V0urWxOdzZLof76gMaQmpqWJQB7jh59lfHk9ft7d4yWAlebHe+tLb2yfF0n1rYbfUWV7q9bqfbbre6WRZHceulZ7/8LU984VvT7m99+O/sIfpQ+OFo98bl8MpLbzo8fKeL1r7nwyf/++/3rQXMy1w5+FDVdelFWCZFMSmZvXrmwKEJ3IuIKBolIiQCUZ9E1rIIs0zzsiiYRWv2LMxBlCgwJ0nskKpaHRkEMESEZA0YQlFhVRVSBGy0NTMiILACABpCNSjGGFAmUCExxiAokpKautJgFCkKAkGAjAMAYygvq4PDSce102uvvvzUZ29tXhfj7vnGv3L87vtcu2Xi2FmDhNaYLLbx08+7Uy49f3YQtL20et/7vuVcmVfTcnzr5o3nnrn57NeK8TByhISNdRsBB0Sj9PkzZ3/t1H3Ld55ZGxfvuf/e0+vHFtpZGieiWPq69CVAZMLk+eef+g7id54+eXD+Qigm3SSxDp9/7iuf/eTHn3rx1e/8T7+y/cTT+g/+B147iZUIAQlbSwpASL2WJbLWGGvQGmNoVuVjQI1BBQZmi2h/8wsvgJKwSlBCQARCCgKsrCrWWCIMIs5FjjC1JkHpZm5lcSGI7B6OJtNaAAWAfeB6KuKDsIgEE4EE5WqxnZw8ttJudULwee7zcppl0XiSG7GgbNARGQBACCICQJEzq8cWqosvDl756uFh/9TDb/aeV++7l5I2EwmzqCIiG82n+XgwttMBbdTdpWO9JKk8W2PaS93ja28499CD9bd+86uf/bOnHv1cCEERDaILXlSvt5NfWFi9tHPzw2+461u+7VszF3kJtedSRJiHeVGUFRtJ4vY4SSbbO2ubV09/y3sng4PxpMwS9+43P3xubfWxZ1/95T/8+Ptfef4tP/dv7/m5/y298wx6TwTGusb8C770PoCIL0tfFYZEQSeTyXB4OJ1OyrKIrO922paobQFdhEkCq524lxhLJEDjovasaZYuLWSBeTCeBuGWs5nDY4vdbjtTgJ39we7+cFwULApAdRVP8nFVFVWgYCOL2sK0m5gHz51YP36MmXcPDrd39tIsvaYYICGLgAYQI+ca50uEwWsS4d4zOy8uRw/13rH41jdffuzRc6dXBWyaxJbIIERRlGbp1sbWo+NDP+5bLf7q3/s797/xTUVeWAPtxMVRXFYVXzj2gXe97s8+dd8v/rv/WBRlDymp6xLpCza9mteWhZVWFluDcT7Oy6rmdkqxcQg2icA6g92eurhvzZ0XX6ww9Lrtdor7+8Prm3u5j97x7vc+eP/9v/Qff7585WLyr396+Yf+di7KLOKLsiiDr70vmRkRQl1LqK1Ra8j7IBIsSCtxa2vHCNk+cHYhImjFdiFzrYgMIRibpJmyCEsUxUlCcRyJQB1qBLTGmShGFWHO0vTE2upoMtq4tXM4KgvEOMlWlxZWelmWtVtpvNBJiSiKYmudip5rd46vranC3Rc0sHrPhkBVnDXOkgBUNYvC7jNfe+JwZ7fO3/HXP4ihzO47+dZH7i2rGoiIwaDsbN7qGJzWo2o6VYpacebHYwJuxRg5a4A0BAeAKqj4nX/9Q9a4f/czP38KqeN5Ys3zUZuNSQmYCwzl2eMLk0kUGXtytUsEW3uHu/2pAC7Fx5/L0q3E3X3l+ubNPQJBPyyqUoSPL6+sLNvCpN/7/T/4G//h3y8/f/Gen/9/5Ftez4UGwCBsDKSRTaKI0KoB6ywYYuEsTtut7NyJ1XaaANnt/si+7+ELzB5UDIACOufmtQ3ArMyqAtNJzRzAGCA6HA5CqBtTpq7Y+4qDdlrdsuYg2ko7WWSFQ12VlmBCwMILnW4cNZl946wRYeds8GJAnXNNKZKwVzIsSlx+8Q/+8JnNG296/zfk+SSM+necvzON49Gk2BkNy7xqd1om6bx0c+vmlZu9hV5/cBhl2bgMo0kVytwaYtXA4llDU1use7077r3wlref3t9Jg+yTvRRHEYuxdjycPP6lJ777b37g2EIqIuW0OBhXozzkFSuCD+yjbNs53t0ublyVXrKaOZdGEQRHY79985WnvtzqnfrG7/j2L/7mx+7eKPSZq9UDp2JxQCSigREDAAYiVKFQ13Xto8h1s2x1adE6V5S+vbBkU2dqgEle5kXVFMdxCICoqGXlB8NxnudVWdbeIzoFmE6nDGitsQadQWMsB++cRcTYWRUPFLHXsqgQaJoXIsxeup1WHMeI3hgiAmNQAZ0SqHAIh4PhqPCedVLWk5ee+9rNq1XcGSS9vcvXp8ODOs72XrrSH04Pay+KsDdUVevsi1duGEPn7rwDEzuo5fnrO8hsDRJRBOyMCIr3WuRV7OC973rogd/5JApvRslu3EoXlm2oAe2nP/P5LI7f9paHKY7LaTmY5AejqYgaQrJmaaG9uWNNf3D4x7//7GLbhqqqclJJkyiLyIS8Gg7P3vHIk6fWr+/m931tz55a9O00lJwXFStba60x1jlQNcYi4WAwMBKE79TYCYmJYvtHn3uMFSd5XVRBBFhElX0IRTGZ5rkvctUKAU4eP9brdsmYY0s9X3sgbLUyAlzotnq9hTiOvQ9KBgitIeWAiIREs/idWmfjOEYEICRCFeCyrnw1mBSvbuyrr4BsWftiWl779KO7eb384H3UW9i9drXsjx5wqYtsr9uy3hNQlkSA9nA4Hg1GWzvbF5YX3vne97XOnopjja31xaQY3srrYYI2zVy7lUE55WEVT/09eW4Attqtsw+8XurJI/ecUpZXL8NvfuxTmdXlThpURL3P6+Fo0j8cDcbF3sZGD01A7H/1qc+bYINWKkhACAbQWktZ5/R01XTXN/3Nd0H3+lOXqnfcb8klcSjL2leVoMUQuciJQlApi7zIDUuIgAjAWmcRTVVWqODrelCUogii3vuiZGC9a0nP9BZfHlgw7f648j5MS6nK6TgPadY2hha6rdWlvN1OrXWRtdaZTicz5Ji5LKu8rEAVjQEkUGVVYUXVOkhdh6IodqfVnzz2zEIn+da3PtJqJebapZ1LL9L68pvf8YjtdQe9zsHOVlX5yODhfr/0XI4mviq58lKHJQZcXgmHExyME7m+fXCoadQfD6rxIG13FlbiBWcdDsnBM5e2zgx4fZIfEl5Kk5Xiikqo+v7UmXu6vc7m4cEvffQzF86s2MgeDiZb+5P+sKgDhyAnx6Nk0eaW7o6is8tLSxEoqEUlQGEBg6a1GEhGVYVLK2mApH8Y58xr7aiCVjsTZhUG0CiK8txXk/zY8kq3lwozCKsygtj9QVHWPrBWAVCdIUPWuEjTTB2xGb5oBnm789AYnPdeYpiyBetMxjURKPpxOMwPyQwJ0aAFhMbzBtXATEDGGFUFQlAQUlJIjI0sGgNJFtn+rfLKY2mvs/5tbweHm4/+8cH+fvaWh0KpW195YfTq1frmrS//v59427mT3Xz8ztOnrnzlqcPxFPI8CvVDVWmLYjI4tJ/+xCmTrG/tTC1USJV1oySetLo3l7qy3EnbCV3cvnMyXQz+K0S/G+xdl29VLbNP9vhJyLLEGB6W8oVnrqqKMdYa02slqUMTm/XCrC0ksaN0OPJn7jmoDsJ0KyFjSUU0itv7m4ObrzxxeNgftVtp58SplQvbF292LxybOoPkFBRYjTGiUMlEK18jiXECSsiGoM4ndm9UAmAQYSVjLRBVzAbIWcpL+b0/eqEb05u/7fVxgoiJMcyKSDaJI0Uog4iCYRFDRCigBCieKw7OWkI14AlYESxhlkSps9YSqxBhBJFNLa0d63U6Quhanf1nv1Y+/dK7ks4XL2+/uvOJNFt+Y0nHArqrl8NzTyrpeG0tHkzak7HxnjhQ7Ah01YobjUfFQYzYChipkhcucxkc8g2tjHPGLUM4OHehONg7ztCScOX4XSutzjDG5dJdWEszTq1JQJuuWiAMi+24DR6TbNy3gxdv2P3Bqbp6Tw/7SUvLExaUUL2v47h9zizd/PKLQeT1ZThmJtF6d/sA9bBsra4EVu+9935a+b3D0fb+4WhaDkYbvY47vbawPO3k03owqfBf/cwvkCEACMKz8IKKAXTWvvTKc5/82EdXu9mHv/tvt9dOrrTjxaVWCIKESRQ9+eTXPv/YlxOt3vnA6XMPvbGkrm0qdxGFOY4jY109S3YaEY3ixDoTVA9HuVdyCGBN5CJflf2dvZX2Gh9M/Ks3qhqhv7Fy5cn2eGDtko9adTGufEG+ICmMLxHACJOIoIqvNdQK4jkcteslALGiA7CoDiRBKGzymXd8w/c9/qdA9EtKf3TsxDe7eLGujUWnwVceuLZBSQUlOFUQiUStmoRlBcq72RQ2XPW8ZdN5vxkQKrKaJFKbIcIDBpPean7szM3I9Xv99BteX1cavBdRFqk8F3XNosIQRebkUstZk5clC9rMShQZ5xxAMMagqiEiBUTMj2UP3HF8JVQXovHCWhJFkbECkfOil195+fd++1f3dnZDKM6nDz301rcMJgBogJBBVSMtwToSJGZGD85GVBHW3nBFoUiZlROlxXEeyms7fOXm4eB5W04B+dTBy6e2b3qKa9eVetQe70fiHQcrTKIA1DTXEAIpE1mHDCwo2NRxGxUDKCjQ+OeAaAzb6Nte+eoQ4OPHVpbH5U/tbTxQ5jEggGmq5wOSEgggAwkCg2UkRQmIgtkthwB6MkniauJZAhIgWjIuQqOSMsRJVxJXEVE1WVg+d7BzK1JnMsvec1PhINKUPBlQssisKhpbKorCPnR+eVrmLo6sywyi9wEUy7I8GA6OLS3+6A//vf29reu705XdQYmmLAKrGtJnvvzE5StXraOTZy9crxefuTZwC0tC7KxxBg2RMYCEBBqDUDWJysJA5WyIJUx2/P5eVk4s7D6XbN9aGu4l1ZANGhPO3XolKorcpoplOtl1okZqJ+xEAYBACIEAYtUEIFJwKk0nHxNO0A2EtwyNAEukQITISkaNW3FuZVLfiowOJguA6rrPuy4ioopRQEABEIOCYBSsAKo0XdAZi0dkMpWlFoZekEpCNWtXo5qNR7MXKSCwuFySRNIlMC5d4ldfTV53Pvi61gBerLI1CCBEFCpoeuEUJIvFjkaDF16+WJQerFNyCk32EX0QsO70Sq+1sjbY70/7tY0TrYow3j9/vPXOh88dbty7e7C/urx84o57X7304j0PaDtZsV60DNPxYVnkIt5ByCj0MpOkmCQuDq0bT+/fusg8Hi70t9dH+20/Sqp80uu1LRy/8mrOUiJF9dSKWAAHQqBGwQAAkgGNETKASNUoAmpA6FO0hbpl7BgoJ2swto4SxEjRosYAMUvqmVkWFxbeM5qcqkuHmIA6AAKIBEzTL9xEFEERlQCBsCZ4an39iyVfDYZPLP/dg92HD0d9qSqACgDARFHmywlzniqDFFPqPS7F0/nBybWV/KWDzpnlYJGC1kVhpKYorYM6G+dl6YN3LvKiwdf26UvbXtu2FaVZQlECZMD7W7c2272FTtZJWi3E9tKyWAOGy4ODzQXM71pf+8rXtk+sHz+12p0U1ZmucFXizpPYPlPWvHnz2nQ6arfbvshBOZjkdXefSZ2L3Pr1P35l6/EbWTlcHO/0qkGHi9SH4eKxZaiXr18eK1vFSNSqGgAHaJtiX1QL6lATAAvoFJjgxTi71Tu24evlYqAmi6weV5OIdENolWXM3okYUQIFVFYA0LKeHhprgFuBCcmgAcSKQBFRDVBDeCQhRCAEQlzfO3ybD/crZNXhMeVxFo0ndQkaAJDVGEdZ20sosHIu3qbJ8ubmXbWEawuj5cWSs9GFtcmCL8dTMcbwOK+rVjery9qoJnGtzIVXu7K6pCLKbDGojkLwW1cuP/Gnn11dXl1c7d0Vvfn42jHZvVgpZnHcpjp10fk7TjKaR594+pF7TyKEevcKlOOqmNDxcmdU9fsHWebCpAxl1VGobtx6bncU3ffQuc8/nT/69IIvlovDzE8yKVOGYWeplcQnNq5MlVNVB0oAltAqEDRUgUQhRkIQA0AIV63byKy7k669/sH/PLnvg0/8zvv3D08Vk4zrRBUBWCE0zQtEswLKpogX5YxoBjBVEBUiiMipQbkdYUOBgAlARZmDZT6vashAEUqRMnZgUFgVgFVKrrI4sjUZModVNTkcPOK9qpbl/srmfr554+D5E/uPPLB1Z7zQRqvYqlGNksXFVguBJwUvtzPbf/UrooKqEYIxGCc237++v7t5eLDXumEfON2KMSzGurVxLag/OJzUSB96/8P9nZsugvvuWL9+6eLzz3wlgCaWunkZKIF8VI7rce3j1bMPr+fn9dZnnt14+lp1dq8fF/tL9XQhVBFApDCOIt87dnLnxki9ATJkqzhWS92ySEIIAFa1hegAEEQJdyj9vJXLYirGuw9M9uL177r65F2TKYZyEwDBGeS2Ygs1QjGqiGCMNYRN460SJHUQUiUTmANLpTUIiSgigYKCgCodNSUedTJzUGZBwDzgrB0RFCEvSxD2VS1gbhjzMIeOSjk3BROoFvaunviTyaq+0Xzo4Yr7yCHUnlwCzhhFRFP5YM+uZKJiyADiNC+soeXe4qlTJ5ZXlx483nnHA+cvHYz39ve3NjY4H/UnBcadT/z+n2wfjDLrnnn+Uv9gmKzcBS421qKDloH1Y624veLjc/Bqv/9bn+lNx/fEWcdsJpM9y74tgRQJMAD1F489MNzzdXnQ63DWzvLcGoxDiFgBKALJACwCAFaEzxrzpNFlpm9hXvZMYx9dex5APQIgEaAg1EReYYAmspDW7CRYUGgaSgAdI6mKb3qvEEGDAAvrbRg0CDMGENyG7jHrOkTWWc5ZAQIAiHqBEmgE2gZZAfaABMCIDOrQJSQp7kePPr0RtW68vjceDOuqzNJEiAySNaaovK2bjHAIta+nk6Is68rz3WdPdBYXOr3o1Rub126N9rc3JR+ii5fWVyHqvnRtnywudDp5BVl3FQmJgAwYZ9pxsPEdLKfjP/nc+ec+d7aerKj8aquzUtUmVJk0mD4qiuMs7UVZvLdZIi6WIcoP4uBjVVJkRAXsABgABDNGeg5CzvQelp76hNUhCDY4GRADWFWjSqjEyohiI2/aZdeqBpgM0AeeNfgjICjCDPlHZ0AOAso6wzc5+nfGg6PGUAVEIGM8iwI0KDKiOgVBhaGhhxm8KgOwgictwdwwsIWuhXCv9tcee2I7efvOsdoaM62EwVdlpaKB1WKdI4dukqpzbVKfxmgRoANgAXRa8vpab2UhyiIkhACRGkqSxBkMYqqqIjLGOjSk6nud9tVb2e6rVe8rv/LwzefOAfdIrrvouuI95WEAcDAzOGqUydLqheFBKQqoSVkiAgEKUE0cKWaqZBSAXnbmS85dbd/3bOvkmwZXf2B4uSeVADLMkG8MoAEFBFJVG+2m0ctME9E7vRyLksnJk9mtXayrOeoKzIFzmhJvbNAUdPbZDMKDcIbZM+v9V22c/MAsAEDICqgQumlnoXu4tU+IXfVBgRVK0glGv+rcx3y1AyFCeEDpH45273nu1f677+mHQajzJn2bxJkYY6Uq0thJNQbgbhJzSiGEELibRdYZJSqLGlwaZ6k1dOv6tfJwp3fu7tZC1/tRbEKctqM0VkORW3zq1f6TV/31YXQ9PffASfdvBq+cL4afJNMt8haHKaABUUQUmKTZgktgepOBrEpANQAMWiM6wBaIjQyh+aozP7badWfuvfPt37y7RT/10ul0uPyPLz0mBBGLztBZmuYlYGd+D81PV/WzPojqOtFHfPZ90NY4SYO3ygFwjl2i1GwGFQVlQFKSBkdBYU56MHMRpLNN0LxGUSXVABp3Mh/8UGFJkFRYkQFrwl8l/A9cBQQVKFS+ovjPoP6JG1dPXFoKd3ejnvUByGAcJaxoI9LE4jQvIwMRGiGMjNQiylz4OoR61O+ratZtA0TFtDSChwc7FSiQEFmuPME0zpKvvXLtE5999s4HHvrAG173yu7Cp74Q/1rMb7765DXFTMsIoFAVaIA2tFhaPj8ZBpYGy4AUDAAjEOgCQNTpaAJXh9XvXrhbTt+XtVuxTP7Zd73z51vZx56U77VPr4RiBpLSUITUAv262B/SeiwGQADouupPhOmlsf/xuA1xnJWFAyxbseQVMSAAzfZQA2QGtx/yGs7Inz/mGgIQ0bGUg8mU8F4VBQwAHuW5OHn82NIFq3VRDUfVqCjYyxbQvy0G/+vlG9Hdbz17z5kYwavWviY0lqK0Fo2zdisy7D0rJFnLikzGU4OaRaZ7+qQAmCgqg4nbPSuF9xURRMYIkkUWPzo4mGzlnfW73zxW3NnZ/4Hv/KZj7fjSb984JLwOeleoLCgCNm5nbihudZP9K4UBy4gIhBhAjGJXTdzL+H3v6P/poz+ftY7/1Q+9q3v68vUbX7uyXfPnzjs3vfecvGAl8BytAxTBCb6Ypr+02j4e0+rUj8bTUV7VrCT0/2p1zNOPZIkNAUMwpW8iRgaawIPOt9DXUbvhLc+5grOy/RmWHiFSU32TV8Fzi6KuegFg1Imhz3SzqQnVqAJj3/jIQ2TMU889t707fBLxi4e32s+8/Mv7kx/+G++FSb8uA7O31lljAEFq4SRrESMRRRGAWoEgDF6YHEzzwMLKXq2JWj1gAbI1+1q4nUZb5craw29Ndm9cv3at104/+tsfN62ld73+wvDyY9sS7lW0SARslASRo2g9z7WuCABQVNEjAJpFhZTURlH12OMvdBak09NWlpo8sdXJ5WQyGCSLJ97cPWyFokEPOoJ1qgj+cL0dVroLg2lpzeqp9cKHaxu3RoUHxV+syjdZ97ZOF4Z9DgKqMgMF0Ubo0AzhhY5wvki/nh/aQF41WqMxVxENcu2VzJKDrKQaGAFuRMmLDieT6s47zv+LH/9f3/XuNxHKE199+h//8I898czLfzSd/uio+t1Xr3zx6eM9KKzWjEIGVRVqVhHn2UwK35/kh9OQB6qESqHcS8VYKapB12q77pJGLZMtlOCCOhO12XUvFQub+5vnVtJvftcbX//6+017MUf3cD0YgYbFhdg4VCAAJiVQH3j51g1GAQDTdHwDdoUIOTGRGQwuFmFvOPG7/ZevbF84cRyqfLi1OS6qSVkf//Rvt5FBEQANgAG0qq+k7U+3osGgWjl++l/+xE/859/72Md+72M/+1P/211n1gF0jPgfqskhwjRpCagcwav9pSLmv34oAEBokv2iXHvM0tVW6notNuQBn43oAOHsiRP/9j/+3+//K+/2w32sxm9/55v/0y/83PG1pZdU+nu7D/ZWvnxp/MtfOjiY+JVEbDsicNFgWhoLaepcZISDCvnAcRyLQB0Mo7SiODHIgiEIIVgybJCQYotjH116+Tp04t5D56/sTtJrz4/atjOu409/cgRmnPuK1ACCaox4K25fXFh4ZH/XqdYIBqgCyoA/27vrz06d+6dbT64OD28ae2o0zNpUeDgYHa4sLaRx1M/h3Ne++N4rN1WUVMWIkAVlUfzYSnSg5sI9d/70z/7sHRfuBZgAmAv3PvDgw6//m3/r+25s7TzB5gul/0CrJeXUcQOIczsa1W3U/a8SnxB05hMACIDAOC/XguNvejd86rOVVJdiSxj98P/0D++9687/6yf+zR/8wR+fP3Pqn/6TH3jgrW/9kR/83v/P//5/fXG4/7bBzeTdK380mFa5PxZyatJjSZpZG6uSsRG6SC21u0mSZoCy0GktdhdaaWxcnKZpK40dqmqVJRTFCUbxMHfji5fKnb1HXxqesua733631PU9X/n8yYD7xk6FRhQHdGRcqfbl+1//bhtnGCpEAmK0TiUj++h7v+vGe97xssAlpXQwtQTvmBbDpx//6Mf+8JUrm1eubCw99iff8/QTLUZRFQI9vijrK6T4bBp/eSFb7i3/2L/453dcuOPaC49//Fd+5Quf+YTPN9/27vf+xL/+l8agB/l0XUzjuLYWQKXB1AOYYYnOjr9kTzTQkAIqOoMqFGigAZFVEbBQdT7w4YAljNFsG3z9w/d/x4e+9af/9c/82L/6uceffvGjn/ij/+lHf3ywt/vhj/y1hcWFJwOb/vDGxWuZGXHdHw33bc5QjPIkSZyxw7wOIsYokvFBCKuyrIIYG0d5WaRRIhJ8XadJjKR5OY1tPOHoC9em7tT5iZFk79XNEp9w5/f70xfPPfT8qTCZDqEsvxzDi+MyINRqQjvdqXvQeWtVVBhFopBAcOT2kqqzfemT993nRwysVkQ09L3tD8PG4e6K8jvHfH4SKoORACn4hx8AcuHm9seXs2na/uvf/q1vfPPbP/2J3/jJH//p7b1D5/C7vvMD/8v/959/+Hs+/Iu/9Gt/+ujjT4tsTIvzWYJVfbTcG0Q6ajA2m+rqBqz0L+yGxnEQAFZptDcCBEJBcSJw8ZJnGVvMDX7Ph771pZdf+fe/9PFs8UyaYDXcffyrz/7Wb370B374h9700P2f/bPHLvUPH/3DIT/8rkWrNyWz5WQsqLXkycJSO0mH0yqN0oiw9rUCOJc4S0WeBwHv0CFEWeaSqCprdN1ON/njL7zwwudffkM+XC2m/sz9zy4tZl/6hTeeOHnN2kd2D/dXkoNqK8aEV5Mg2o5gNHj5JaEHesvfdOsKCxO5X0b9qtCFF/bvjqPXbQ/Ksg7vfVfytjfh0y982+9/wgNkLIdJeu3d3/TsyZOv+9LnDIISmRsbdpR/up18ebl7fGHxgx/8wLVLz/zYv/i/r27nrQjjkv/zb/zOqbOnfvBHfux7v/d7/vTRxw9FX81Hpywx0pHVqXNzs9G/MtPGQHMtDXMngBEIgAFCgxsGIAABG/9PJgcHDFABpr2Ft7z1LZ/77DPZ+kODvQLsYTvJRhsv/sEf/tkP/oMfft3r7vuTP3vs8x4yw9euvbrRuzCaRvbU/W+Q4Ot8mhhVIEhR2QubtNUCAM+Y5xMbt6IodZZSVIxj51x3wRZBCXnvsDixvFIeHD43LY6feqR2Otz+47d95LvvW1p59ld/XVt0t43RwSCfILhIMeN6KYtEqivTiTKXhC8oI9rWW/7hS3/ya28cHL6H9YXJ4ebe1vDll65PpuAoYRxNJw9+9pP/+YGHL0RpUk3YYnSw/+LQ/4f1TuncGy7cdefdd/2Lf/VTVw5o4c73d5zHW485K7/zsd//zr/+N9//je9bWur1+4NdxlqgImpJOHIimkAQzk3MmdhpLKU56qUQyByXUBBVRREBkBUDaK1ivQaEWmHlxInFhd7N7d3ls6/3KzS4/KVjJ+/CfHfz+uZoMLzz3BkAeIH9HVGs5cHurTb3Fmzla2tj14qCaJmPRZ2oZp0O2wgBYyRGG0exi5yvy8oHkrHUcSXgCCrxJ06dndbDZ7rlYbJ0YfHOrL46fMe7vvTC7rS+jPGx9cXQmRxQTCstOhhLUcpay8YpvVzZ30IDzqKJAdREae7WqLf6aeMfH+bXHn1m/4vP9sCczxbvJjCsj6X6pI3uDpOv3HnqzlzWdjYu7vmfXEuup61jaO67714OfFBnq3e+aWI6fbSn73xPMnimKusvPPrF7/rw37r3rju/9OUnB4qeQEDTGc2VAVmVmxc4Iz3rzO+VGR4esIIAmDmGpwCoQgSwieg4sKpBCACisra+WuY+MdCzk0lM8ek7bCrrp0/zeDwZTXuLPQCoAMLS4oN3niYgBbU7W9sLWVRDXNRepUawaMykP6zqWrGpLKdQVwTMHLwHVjZINSsgarJwM3vw8qls1HknsVTHT37fG+54+5v/x5/+jce+dmmT48lfMY/nU4ShAmgNwEG9qo1t7JIkbSd3v2eAqyDiWp0o7Tz83vcsHD//m599ZVSINdCnaIrwgrVRgs5GcdssLk133vaOL92aXvr3P3dx72tFO26LB9M+c/78jY0bWtePvOVN1w/9znBcUXsFd4ebl1954SWk+I47zn7py08ORMVQ5Gi5FMUmqCCNVKlAGcArVoAetESoiGrAmkyFVCHWBLVxFWJQqAwwGmPN2GKqWnt9aDSOJEyFs95Cf3/rk7/z2zv7h9M6HFs/W8eRNdLpdUGg20rPnVw7tryw0O0YAAQNge3lm1tdwyy2EvTBC0aE7AwyUu19XdegmsYRGVKuSUiMtUhBIM+nuNKKVuJTfnLMBAWbDZ754icvf/FPP3WN1xa7S3WcbOzHJjoNxNV0pIbEaCvLDj1vjXeT4+sr975hQQFdYqzt5JdCsTGKO8fvOL8iFBFJ8CIVlCMMeTv2bVATaL1TfeK3f/3TOy+dWOikDEJojW112oPR8MKpxWeuXm8Fd2qhLYJpcnq6c6PfPwSAE+vrALCPQIyvRvj5xUVQyh17NIVxlY1yY6ooKcl563wUg4vB2oDgrWEbsTGqIOKRPUqtEAxIrBqqOjCPq8O/X+arlfxhRHfF0aTK263o1PELN7a2J9Odab/WbjdZ6dmkk6bxm++/I83iENgYUhbPbJciBrQYNLJaGZqW9UpGFmUqkBjwDgOQAORFBeoz4xCkBpiWVVmG+tqLN770RRRPxg4ORltlsZ26aVEGtcZAQLPFgtKoMqWZrEVCI1Ib7A8/8/OICmQE1Eey6+Lh6JPOGgU1ZICZQx0gIGLfWOvoZpJ97ct/uLGxUeQFdkkkFoG69sbY7e2dj370N4b7O+Npla2sLx47N3I1gynqACCtdhsAdhRL1L7FP7jvbj35EFGiiMYaJWBlZdYQgq+8LwKXviq4Luu8qquqrioONQL7sqxCLZUPEtrddmyjyJqtWzv/rKzjzE4iurMInSwdDEeTyXQ0GRVlfebM2b/7d7+vs7S4vLra399x1hhjvA915Zu6TfvstQEgqWpkMCgGli2aVb4YskRUizRwfgqAUELTpgUAGJHDu8+eMI5aafLFJ1/a2O8PpkXwQXluTjQXosbobiDtFXSGb940SDbBGWsNWqorj7dZgAzgCbVBp1YE6ANsAIAlGxjJKAjkZRlCKWV9rB299b43XryydTAYcP9qsrYWLy2vHT8JYLwPAHAD+EV19xZab9y4qcb4UPux1FVVVt7X4llVFdXMMKhQOLjIucilcdzuJEsrK6PRdDDIiTCK6PjqUjvLOJS7w9FW6Zecsexv7W4fW10Ghv3xMNQekNZOXNjcPvymhx4xFrZvbVtnEck511lsc2AisidPnsjznEMA1CDIIqBorImcbcy0rMELVhBmESEiY9Bag2RYIYQgokY1dnHpGVCbTrkGbpikAdkCahIaAHM4axFVEZ2jy0MZ2Iej8NfM55xhON5mlRtDzMISWEBUmXk6LQ8PB2trK4PB8LqB8WQSvEcNH/zg37n7da9bXj4GQAcHBwAwBvxZ8KfRvLK5dbixhaIMsLTQfs+bHnTGRjG5yEUuctZmSZzGEYtYA2RJRdgzEYlACKzadJ8ZX1aI2b1n158cjYyAKF25eqPVbp84c+LW0891W1lv/fzmSG989vFv+Ob3V+PDzRsbaAjIKMpwMiUAIrQb27vYIPMBoLEAyOzJk69m8MKRJeusi1wUEyKFwCFo8Oys6SZx3Gl50bLIu52kmQWBs4sBKDAoAjLMOEgzaw+sNb1uezItpo1bBJA4t7a4gIjO4GiSD0YTAFhfWU6SGBpMdNCDw0FZ1kvLi60kDn5qAqpqULh69fpb3vKIdW5jZ19q76tycXX9et/vPP7SX/3ASYD62vXrAHB8dbEO8qV+H4FARQhB9K47z7//ba/3ITR126zMzMyiqg7AkGnAsRRDM54gsqrK1tkkiguTG+SH7j77wsuXfRBr6PrVm7t7e3/7I9/9+FMvlkL9wbgewPve9aZHHnn9C0998WCvH0Vxg4htjE0ia621grM6uKOQK1kXWeMMERIAZknkVQOgsIqIChKqJTLWVgIOaXGhFfXaYrJHn3g2sMxdnFl6r4FSnLdCztby2bXjf/8j376z39+81UeFOtQnT62cO7FKYCOD1zZ3Lm0e9Frxg/ec77QyVRCRwPLZLz11dWvvzIk1X/MTzzxjTeMu8bNPf+2HfuQHV9bWrz75VK+VLS+vpcfu+OzXNnuRfNdf++DkcP/ipUsAcHAwmE/ZmEWhEfHM2uruYOJrH0JQVVT1IQQOIkpEQPMJCagcVESFMYRQc5iJZVERcUk2Go1S4waD0Sc/8Uc//I//waOPvfCJz3zlcLj/8OvO/NN/9INpQv/lv/z+1c1dFzmCeRMzoqpaX5SiCoSEDRIKWYMMmkQxB8/C09JHURpbSwYBMHa2ZcGqt87aLIvjlIx1LjqfdlaWl7Z3929z32F5cSGOo1vb+0f4/s1x/Ngiqpxe6a2vLDIzi9R1GPRzEVXx1uC9Z1dVaXdvuNvvW0PCYpDuv+v0XefW86IMzIPBqZsbmw7AED733PP9/f0f+MGPPPdPLtoonvpokrthuf+Wb3zzXXeceeLRT9+4vgUAPoQ/F15YXuxETjY2t+e0BAQUabC7RQBCg3TduMpKABiCZxFukG1BQcEAtLNkZ7/fFGH88i//9vd85L/5mZ/50ff88TM3rm1+4Bvfft+Dd/3JH3z845/4VAPsbhCNacpo1TpniRAaX0NBWQ0JkBHVoqhBwTrXqGj2Tash1FU1AVAFYwL0CwGjIEhkiY6v9rZ392fQlQAAEAJHTmA2iWOW9LZEx5aym1u3hKEBWUdEVRJVQZYmADZ3UWW2i1RVSdUgCQiSOXv69PWNTR8YI7O5ufnJT37qv/2+v/O9z139zd/97JjbrgzrLfnBv/1XI4cf/djvvJaWv+0whh6461xkKbAioAIKMCCggcbVNYAopDNoeW5mvSggISlg0JqZRSEIry519g7bk8kkjdwrF6//y3/+b/7t//N/fvg73gfgANzVF5/4qZ/8P7f3xqwiwg3cLRGiMaqK3/G+N8/aqmnW0W6oGcPCAOCsU0BjGrSaI4BcAURDhghFFRWssc653f7o9/708dr7//+hXQSATit9x5setMb0+4Ogs8UoMwxxYJglx5sOegBEJA7MQY8cVFAQDKPDg8xSkpjAcvfdd/2XT/xW0u7+2u89+dgTzy23or/xwfe/+Y0PXnnpyXe970O3btuX80fAOIqOH19rxiQQkqgqM4oiNnDqs+7z5tlFAs3oAoiIZGQ2QEWawtvBKL+1s4uqceTE++/8jm/4kX/w/cfX15956mu/+J9+rcjrKE5YGACYmTmoKoIBVfwn3/chBAohVGXwoS5KPy1rkQagWxFnpWUArw28QEJDZjaOBaCu/Wha5F5CkGsbt4aj8X+VAWRdpMaovDZWYCawXuPRbZjsc7CWo5NIAQAVESHEUHVSF0WmqsL3/73/9v/42f8d0BUFR65lbBKK3f/uB/6HX/7130dUgK+TgU0AWgRvH711263gbbcyO38moKEpE1OZVbJocymDoCrMQkSRBfbcaiXdTtcgnz15LEniuVoEVYYZGD0ior2xsd+gmwYOoCqAQVRE5ygPhLMXGEQbeS0qHIqy8k1UPQ+ytdcfTaZRFDXwZSL8Wqnf1z2ZkqGmdQSxQQM9SizOU7x69Pq1yTDaZCBfu5iiCoCUjCKhxZI694u/8GuG4H/80X+0dOwkAB/svPKTP/5//MqvfwIAdB5tm1NTidAQWWeJ0Biys4pu4wjIUGSJCKI4NjSDbY6caZBGYDanBVUaz0YJqUkUgCIRIqk16GzkDDrrosiBqkojsJpZGaQACiqIoorf/O43zY2CmcU961JFrGveOzg8nJZVHYLnoCwBFEhgDnk/W6zzVGlTeaMCXIAezV27jRNESFFT8DE3RY5S63Pyzv6X2Zy11wYv/dcyVonFVhbXRXn3XXe+691vVZAnv/rUpUs3XZTGsTGE1poGy8gYE1tyxpIhY5GMIQTzWnFogxWAM49RmxX/WonckSrDeUlMo59EoIHeFZVZ7riZhqRNFlSbACARNe4pzdgJ+Ffe+cjRYzR+Fs5huBWxqsO4KOs6lEUdhBtAM25GRWEjBFVUjgyyGc2FmWUW7zqKrM+x7+cvv47Zt2ejENEZiiJHzRAfVVE1cIQBokgYNVWfOKtzU4DIUOKs+BDYG2NWVpaWl1uIAILNIBVpqmoBCMAYI6pBuDEOVBrxOi+Ok9kYr5mUOeK9zp5Em7EszWOrACIBNUZ20GZnCMzGtv3F1OdMvjUBBQszNwewuS2R2cZHBYU4otilRLMk+OxiNFMG89UAMAsvNK4WHlk9R7zE+ZM0QtPMJ23NAJuRZnAf0Ag8NAawWS+sqCqgSLNAEoA2gEdz8XWUZydt3GZFmM32EgRqkHCaYjhR5SCCYFANYgOFp6oiR7mX2RJvOEJz8QhIqsAqgCqqyjp3NptxMwJHA7h0tmEUBI/iKI1YVTla+LPfRLQGUWcqt8GFnksXBABpUGhUhJCaOVMK8xWN8+F8c0CgprXDEgGRyGx+VwN81lhYTdlZU9KjIvMrQDNkqlkUNLsiEcxsM1V1RM3oJmz4Lxo4zKkMDeSzSJhJEJ1JR1UFZUOYRM46CqxV5QNJ0ACzJ5xpYGokTQPKBiAN5lMDZNGMd1RUFUSYJwWQZvcGAKqo8pqZMJ+t2WjqZoc1DECU23yRxhmzIOGoRKbZVwBoiGD2wKoz5TwXeXBUwnr7AQCks8E+DbC3zEwmFZnB2SCoEjYj27T5aDYaC9EiKYAIg8EGHZnnGqaRpY2/QkiOTJNIVAAiUlVhbhKFxlBjGhqDs60KkDh7z53nOgsZ+7qRNrWvhuN872CYl3Xt6+CZeW5fgKqIzEc0NfaH6qwQeFZS2pCAZnc+l0rNWoSZllYw1LTeqKoYIpkLMmaeyw1EJPzmtz3QDO5pEJeaLaOgCMrMcxkCDfLRba5AcxDOwIKgEQvNHQuiiKjovPyPCEn1tSqEuTCBZiPSER8JosgxMzad0Ee2ETTGn5j5bTTgUAqzECFg8+Fs8TU7r7lZQrTGqKox4CIbR7GzphEXwQcVZRUlssZaQ01fdVXLNC/quq4YfO1r74Wh5hAav7gBjmwgg+lIss9Gich8edJsmsXMQjoSbgoAsxlfiAg2sQ5mQ0sbfxBNZKuyVAFr7RGHZ4ucUOU2sdNMNlRQJGFl5ubTo11CDZMBBASbdSuz5TLTaDgfVKkEAAKqE49NvwSCocZPnjlFCBhEtSkOn8/1aPg2s+AaU6S5NM81PAD40CCCKNQqE25sWlXV5uJgEay1xpC1xjmXxlG32yEyxhkRZubGABDWuvZlVRRFXQfxdV2z+hA4sBcRQRBknC1wA4iEBESv+S/aCExCkEaTANhKuNlVDKKiqEghiFJjOc/HxM62j3AjrBqnfDb/iow1FgBwvvGbEDIigsyHv8k8GdOUhc9VMCLYZmCtgCAAi7CqsCAQCAAyoCIoEaEioTEGEdUYQ2QAUVQlKGIjaxsdGHhmYcy0ZCNdZ4qnUUtHBhhiY0EyYBUCgBKCqBpCFZ51ziAQkrEUW2cNWQtkTafbiaLYOWsRCTEELyhlxZNpycyNfFJm5gBAtQ8hBM/CM5kMAFDXDMYYY2y33WpWkyVEavwLIiJpwAxm0rtZSgQIMgvQo8J85Js2zpkImOavqPNZmmQaekOTKAABaPx+kXnQxxIZQ4hmZtsQIFFsrZnJOJ2t8dk0TG20CxnimQEMQQR0ZhqJShAhY7BBlDYkLE2LEouoSBRFwQuLNsqoiaYwaF3VjYklIgSoaoV5NqKI0Hv2vgKAINwo4ZlgADCERCZ25JxVBeesc4YIIptVVUXYBJVVZ/QjltBo/BA4L3J7crWnqiocR7aVZQBIoMaYZl0RUWOGI6JBoGb6g6HGQm7ibnWom5BIHbgRzdZAE/BTBhVlUFYBbWK5EjgEH1QVCYMAESlokDBzfbjZc4QKwlLwkT9z20DjRlMSggLDjCOOmvmvgjq3uggQm64KBZ35PmUdRLSuveqsILcxGBCBaOY9zZgO8Np42LkuJKLGDjJEqsrCzAocPCOUXkRYUWfrSxBJhW2TXBKhWSOsUQVrTYAAoNYYYg6AWNVSVBMWBlBRldA4Lk0BhxpDMPPLyRlquDxv4MHGTa+DZxZVsWRd5Iy1g/EEiThwY+FxEGmMFhUACCJ5WQNgg6/EHEQ0sAKCCh9BRzUaAOaPMcuiiRCRNZbZq2pvsZ0YW5U1CAQUYWn0gao2aCHBs0Kw1lS+rutmWuSsDqUhsTFNi4IgEYEVbkaCC8hrjiICWtOoeWUQnBkVpCp1kFm2Q4IKiCoQADAHrrSJ7KpKmHtHoNrEn9WOptMZWq5oFCVRYqy1hggUgue8qqeFr2rPLADYpIsYdZbWUDCGQMQaUgBrrAg3D8MixlArTVXVe8+injWIGiLTlKABiAgLNPaqgMrMMoBG+FprG6uqWfMiGkJoln+jPuaDJwGU8mlpsjjNkqoK7GtgddYAkahagwgGgpZVqcpVXasaJNLGU5kNriSRMGMxc0AREWvJEomCiBg7Ay5HNI17cjQ8EBEVCAgIQFWDCBDQ3E6kBqxhtoIUAGRejWoAmfn/B7PM4gzvVeaWAAAAAElFTkSuQmCC\n"
                },
                "metadata": {}
              }
            ]
          }
        },
        "891bf72d1816478f9f47bb26744a4404": {
          "model_module": "@jupyter-widgets/controls",
          "model_name": "LabelModel",
          "model_module_version": "1.5.0",
          "state": {
            "_dom_classes": [],
            "_model_module": "@jupyter-widgets/controls",
            "_model_module_version": "1.5.0",
            "_model_name": "LabelModel",
            "_view_count": null,
            "_view_module": "@jupyter-widgets/controls",
            "_view_module_version": "1.5.0",
            "_view_name": "LabelView",
            "description": "",
            "description_tooltip": null,
            "layout": "IPY_MODEL_054907eb573b451d83f821bf9c568655",
            "placeholder": "​",
            "style": "IPY_MODEL_a4a2194a6ea948f5854ed8450c6858b9",
            "value": "Prediction: red; Probability: 0.9750"
          }
        },
        "b899c0716d014bfba2f1285248c93277": {
          "model_module": "@jupyter-widgets/base",
          "model_name": "LayoutModel",
          "model_module_version": "1.2.0",
          "state": {
            "_model_module": "@jupyter-widgets/base",
            "_model_module_version": "1.2.0",
            "_model_name": "LayoutModel",
            "_view_count": null,
            "_view_module": "@jupyter-widgets/base",
            "_view_module_version": "1.2.0",
            "_view_name": "LayoutView",
            "align_content": null,
            "align_items": null,
            "align_self": null,
            "border": null,
            "bottom": null,
            "display": null,
            "flex": null,
            "flex_flow": null,
            "grid_area": null,
            "grid_auto_columns": null,
            "grid_auto_flow": null,
            "grid_auto_rows": null,
            "grid_column": null,
            "grid_gap": null,
            "grid_row": null,
            "grid_template_areas": null,
            "grid_template_columns": null,
            "grid_template_rows": null,
            "height": null,
            "justify_content": null,
            "justify_items": null,
            "left": null,
            "margin": null,
            "max_height": null,
            "max_width": null,
            "min_height": null,
            "min_width": null,
            "object_fit": null,
            "object_position": null,
            "order": null,
            "overflow": null,
            "overflow_x": null,
            "overflow_y": null,
            "padding": null,
            "right": null,
            "top": null,
            "visibility": null,
            "width": null
          }
        },
        "052b8ede53f44e2b9bbceecb1c8b09ea": {
          "model_module": "@jupyter-widgets/base",
          "model_name": "LayoutModel",
          "model_module_version": "1.2.0",
          "state": {
            "_model_module": "@jupyter-widgets/base",
            "_model_module_version": "1.2.0",
            "_model_name": "LayoutModel",
            "_view_count": null,
            "_view_module": "@jupyter-widgets/base",
            "_view_module_version": "1.2.0",
            "_view_name": "LayoutView",
            "align_content": null,
            "align_items": null,
            "align_self": null,
            "border": null,
            "bottom": null,
            "display": null,
            "flex": null,
            "flex_flow": null,
            "grid_area": null,
            "grid_auto_columns": null,
            "grid_auto_flow": null,
            "grid_auto_rows": null,
            "grid_column": null,
            "grid_gap": null,
            "grid_row": null,
            "grid_template_areas": null,
            "grid_template_columns": null,
            "grid_template_rows": null,
            "height": null,
            "justify_content": null,
            "justify_items": null,
            "left": null,
            "margin": null,
            "max_height": null,
            "max_width": null,
            "min_height": null,
            "min_width": null,
            "object_fit": null,
            "object_position": null,
            "order": null,
            "overflow": null,
            "overflow_x": null,
            "overflow_y": null,
            "padding": null,
            "right": null,
            "top": null,
            "visibility": null,
            "width": null
          }
        },
        "dda8fae867db4987b66f68ca53c5360e": {
          "model_module": "@jupyter-widgets/controls",
          "model_name": "DescriptionStyleModel",
          "model_module_version": "1.5.0",
          "state": {
            "_model_module": "@jupyter-widgets/controls",
            "_model_module_version": "1.5.0",
            "_model_name": "DescriptionStyleModel",
            "_view_count": null,
            "_view_module": "@jupyter-widgets/base",
            "_view_module_version": "1.2.0",
            "_view_name": "StyleView",
            "description_width": ""
          }
        },
        "df10372921a64ff49014ec0b729308f1": {
          "model_module": "@jupyter-widgets/base",
          "model_name": "LayoutModel",
          "model_module_version": "1.2.0",
          "state": {
            "_model_module": "@jupyter-widgets/base",
            "_model_module_version": "1.2.0",
            "_model_name": "LayoutModel",
            "_view_count": null,
            "_view_module": "@jupyter-widgets/base",
            "_view_module_version": "1.2.0",
            "_view_name": "LayoutView",
            "align_content": null,
            "align_items": null,
            "align_self": null,
            "border": null,
            "bottom": null,
            "display": null,
            "flex": null,
            "flex_flow": null,
            "grid_area": null,
            "grid_auto_columns": null,
            "grid_auto_flow": null,
            "grid_auto_rows": null,
            "grid_column": null,
            "grid_gap": null,
            "grid_row": null,
            "grid_template_areas": null,
            "grid_template_columns": null,
            "grid_template_rows": null,
            "height": null,
            "justify_content": null,
            "justify_items": null,
            "left": null,
            "margin": null,
            "max_height": null,
            "max_width": null,
            "min_height": null,
            "min_width": null,
            "object_fit": null,
            "object_position": null,
            "order": null,
            "overflow": null,
            "overflow_x": null,
            "overflow_y": null,
            "padding": null,
            "right": null,
            "top": null,
            "visibility": null,
            "width": null
          }
        },
        "ea3d55d04bcd4c7b858987dffdd6abba": {
          "model_module": "@jupyter-widgets/controls",
          "model_name": "ButtonStyleModel",
          "model_module_version": "1.5.0",
          "state": {
            "_model_module": "@jupyter-widgets/controls",
            "_model_module_version": "1.5.0",
            "_model_name": "ButtonStyleModel",
            "_view_count": null,
            "_view_module": "@jupyter-widgets/base",
            "_view_module_version": "1.2.0",
            "_view_name": "StyleView",
            "button_color": null,
            "font_weight": ""
          }
        },
        "01f471cd18f24a238db7db8c587eb157": {
          "model_module": "@jupyter-widgets/base",
          "model_name": "LayoutModel",
          "model_module_version": "1.2.0",
          "state": {
            "_model_module": "@jupyter-widgets/base",
            "_model_module_version": "1.2.0",
            "_model_name": "LayoutModel",
            "_view_count": null,
            "_view_module": "@jupyter-widgets/base",
            "_view_module_version": "1.2.0",
            "_view_name": "LayoutView",
            "align_content": null,
            "align_items": null,
            "align_self": null,
            "border": null,
            "bottom": null,
            "display": null,
            "flex": null,
            "flex_flow": null,
            "grid_area": null,
            "grid_auto_columns": null,
            "grid_auto_flow": null,
            "grid_auto_rows": null,
            "grid_column": null,
            "grid_gap": null,
            "grid_row": null,
            "grid_template_areas": null,
            "grid_template_columns": null,
            "grid_template_rows": null,
            "height": null,
            "justify_content": null,
            "justify_items": null,
            "left": null,
            "margin": null,
            "max_height": null,
            "max_width": null,
            "min_height": null,
            "min_width": null,
            "object_fit": null,
            "object_position": null,
            "order": null,
            "overflow": null,
            "overflow_x": null,
            "overflow_y": null,
            "padding": null,
            "right": null,
            "top": null,
            "visibility": null,
            "width": null
          }
        },
        "a53411bb4f434f4f881d6e91ebde98d6": {
          "model_module": "@jupyter-widgets/controls",
          "model_name": "ButtonStyleModel",
          "model_module_version": "1.5.0",
          "state": {
            "_model_module": "@jupyter-widgets/controls",
            "_model_module_version": "1.5.0",
            "_model_name": "ButtonStyleModel",
            "_view_count": null,
            "_view_module": "@jupyter-widgets/base",
            "_view_module_version": "1.2.0",
            "_view_name": "StyleView",
            "button_color": null,
            "font_weight": ""
          }
        },
        "054907eb573b451d83f821bf9c568655": {
          "model_module": "@jupyter-widgets/base",
          "model_name": "LayoutModel",
          "model_module_version": "1.2.0",
          "state": {
            "_model_module": "@jupyter-widgets/base",
            "_model_module_version": "1.2.0",
            "_model_name": "LayoutModel",
            "_view_count": null,
            "_view_module": "@jupyter-widgets/base",
            "_view_module_version": "1.2.0",
            "_view_name": "LayoutView",
            "align_content": null,
            "align_items": null,
            "align_self": null,
            "border": null,
            "bottom": null,
            "display": null,
            "flex": null,
            "flex_flow": null,
            "grid_area": null,
            "grid_auto_columns": null,
            "grid_auto_flow": null,
            "grid_auto_rows": null,
            "grid_column": null,
            "grid_gap": null,
            "grid_row": null,
            "grid_template_areas": null,
            "grid_template_columns": null,
            "grid_template_rows": null,
            "height": null,
            "justify_content": null,
            "justify_items": null,
            "left": null,
            "margin": null,
            "max_height": null,
            "max_width": null,
            "min_height": null,
            "min_width": null,
            "object_fit": null,
            "object_position": null,
            "order": null,
            "overflow": null,
            "overflow_x": null,
            "overflow_y": null,
            "padding": null,
            "right": null,
            "top": null,
            "visibility": null,
            "width": null
          }
        },
        "a4a2194a6ea948f5854ed8450c6858b9": {
          "model_module": "@jupyter-widgets/controls",
          "model_name": "DescriptionStyleModel",
          "model_module_version": "1.5.0",
          "state": {
            "_model_module": "@jupyter-widgets/controls",
            "_model_module_version": "1.5.0",
            "_model_name": "DescriptionStyleModel",
            "_view_count": null,
            "_view_module": "@jupyter-widgets/base",
            "_view_module_version": "1.2.0",
            "_view_name": "StyleView",
            "description_width": ""
          }
        },
        "afbbae1eea054209969610fa333fbd87": {
          "model_module": "@jupyter-widgets/base",
          "model_name": "LayoutModel",
          "model_module_version": "1.2.0",
          "state": {
            "_model_module": "@jupyter-widgets/base",
            "_model_module_version": "1.2.0",
            "_model_name": "LayoutModel",
            "_view_count": null,
            "_view_module": "@jupyter-widgets/base",
            "_view_module_version": "1.2.0",
            "_view_name": "LayoutView",
            "align_content": null,
            "align_items": null,
            "align_self": null,
            "border": null,
            "bottom": null,
            "display": null,
            "flex": null,
            "flex_flow": null,
            "grid_area": null,
            "grid_auto_columns": null,
            "grid_auto_flow": null,
            "grid_auto_rows": null,
            "grid_column": null,
            "grid_gap": null,
            "grid_row": null,
            "grid_template_areas": null,
            "grid_template_columns": null,
            "grid_template_rows": null,
            "height": null,
            "justify_content": null,
            "justify_items": null,
            "left": null,
            "margin": null,
            "max_height": null,
            "max_width": null,
            "min_height": null,
            "min_width": null,
            "object_fit": null,
            "object_position": null,
            "order": null,
            "overflow": null,
            "overflow_x": null,
            "overflow_y": null,
            "padding": null,
            "right": null,
            "top": null,
            "visibility": null,
            "width": null
          }
        }
      }
    }
  },
  "cells": [
    {
      "cell_type": "code",
      "source": [
        "!pip install -Uqq fastbook\n",
        "import fastbook\n",
        "fastbook.setup_book()"
      ],
      "metadata": {
        "colab": {
          "base_uri": "https://localhost:8080/"
        },
        "id": "6slhHGqQJgXf",
        "outputId": "f7c11dac-551d-49f7-c17e-66b796876091"
      },
      "execution_count": 1,
      "outputs": [
        {
          "output_type": "stream",
          "name": "stdout",
          "text": [
            "\u001b[K     |████████████████████████████████| 719 kB 13.0 MB/s \n",
            "\u001b[K     |████████████████████████████████| 197 kB 47.6 MB/s \n",
            "\u001b[K     |████████████████████████████████| 1.2 MB 56.6 MB/s \n",
            "\u001b[K     |████████████████████████████████| 60 kB 5.9 MB/s \n",
            "\u001b[?25hMounted at /content/gdrive\n"
          ]
        }
      ]
    },
    {
      "cell_type": "code",
      "source": [
        "from fastbook import *\n",
        "from fastai.vision.widgets import *"
      ],
      "metadata": {
        "id": "Y_Z5ldrEJb4W"
      },
      "execution_count": 2,
      "outputs": []
    },
    {
      "cell_type": "markdown",
      "source": [
        "Primeiramente, carrega-se um modelo classificador de carros, para usá-lo para inferência. Vale ressaltar que este modelo trabalha com os rótulos 'vermelho', 'azul' e 'preto'."
      ],
      "metadata": {
        "id": "CX4CRHljGy-h"
      }
    },
    {
      "cell_type": "code",
      "source": [
        "learn_inf = load_learner('/content/gdrive/My Drive/car-export.pkl') #Diretório onde está o '.pkl'"
      ],
      "metadata": {
        "id": "_nnfE4AkHpM9"
      },
      "execution_count": 3,
      "outputs": []
    },
    {
      "cell_type": "markdown",
      "source": [
        "Depois, é preciso criar um notebook app a partir do modelo."
      ],
      "metadata": {
        "id": "utYxk2RvHsw8"
      }
    },
    {
      "cell_type": "code",
      "source": [
        "#Inicializando as variáveis widgets\n",
        "out_pl = widgets.Output()\n",
        "lbl_pred = widgets.Label()\n",
        "btn_run = widgets.Button(description='Classify') #Botão de classificação"
      ],
      "metadata": {
        "id": "VHLeNdFhJXbe"
      },
      "execution_count": 4,
      "outputs": []
    },
    {
      "cell_type": "code",
      "source": [
        "def on_click_classify(change): #Método chamado sempre que há um clique no botão de classificação\n",
        "    img = PILImage.create(btn_upload.data[-1])\n",
        "    out_pl.clear_output()\n",
        "    with out_pl: display(img.to_thumb(128,128))\n",
        "    pred,pred_idx,probs = learn_inf.predict(img)\n",
        "    lbl_pred.value = f'Prediction: {pred}; Probability: {probs[pred_idx]:.04f}'"
      ],
      "metadata": {
        "id": "w29UJJ0WJz_y"
      },
      "execution_count": 5,
      "outputs": []
    },
    {
      "cell_type": "code",
      "source": [
        "btn_run.on_click(on_click_classify) #Chamada do método que, após o clique, usará o 'car-export.pkl' para predizer o rótulo do carro\n",
        "btn_upload = widgets.FileUpload() #Botão de upload"
      ],
      "metadata": {
        "id": "TrpmNSUFJ4om"
      },
      "execution_count": 6,
      "outputs": []
    },
    {
      "cell_type": "code",
      "source": [
        "VBox([widgets.Label('Select your car!'), btn_upload, btn_run, out_pl, lbl_pred]) #Visualização da pequena interface gráfica"
      ],
      "metadata": {
        "colab": {
          "base_uri": "https://localhost:8080/",
          "height": 230,
          "referenced_widgets": [
            "fa87190f92d742fba894835710eb76c0",
            "14d1efabbe1f463181acb87d0f9fc501",
            "a34cdc9943cf450cb623f59b62c94769",
            "f083cd022bb14f81824903777e6c50f0",
            "10b7be4bd93b4aaa882d58853f0a26d4",
            "891bf72d1816478f9f47bb26744a4404",
            "b899c0716d014bfba2f1285248c93277",
            "052b8ede53f44e2b9bbceecb1c8b09ea",
            "dda8fae867db4987b66f68ca53c5360e",
            "df10372921a64ff49014ec0b729308f1",
            "ea3d55d04bcd4c7b858987dffdd6abba",
            "01f471cd18f24a238db7db8c587eb157",
            "a53411bb4f434f4f881d6e91ebde98d6",
            "054907eb573b451d83f821bf9c568655",
            "a4a2194a6ea948f5854ed8450c6858b9",
            "afbbae1eea054209969610fa333fbd87"
          ]
        },
        "id": "PzqkzmqfJ9BG",
        "outputId": "97c786b7-8c85-411a-e62e-256582e8dda2"
      },
      "execution_count": 7,
      "outputs": [
        {
          "output_type": "display_data",
          "data": {
            "text/plain": [
              "VBox(children=(Label(value='Select your car!'), FileUpload(value={}, description='Upload'), Button(description…"
            ],
            "application/vnd.jupyter.widget-view+json": {
              "version_major": 2,
              "version_minor": 0,
              "model_id": "fa87190f92d742fba894835710eb76c0"
            }
          },
          "metadata": {}
        },
        {
          "output_type": "display_data",
          "data": {
            "text/plain": [
              "<IPython.core.display.HTML object>"
            ],
            "text/html": [
              "\n",
              "<style>\n",
              "    /* Turns off some styling */\n",
              "    progress {\n",
              "        /* gets rid of default border in Firefox and Opera. */\n",
              "        border: none;\n",
              "        /* Needs to be in here for Safari polyfill so background images work as expected. */\n",
              "        background-size: auto;\n",
              "    }\n",
              "    .progress-bar-interrupted, .progress-bar-interrupted::-webkit-progress-bar {\n",
              "        background: #F44336;\n",
              "    }\n",
              "</style>\n"
            ]
          },
          "metadata": {}
        },
        {
          "output_type": "display_data",
          "data": {
            "text/plain": [
              "<IPython.core.display.HTML object>"
            ],
            "text/html": [
              ""
            ]
          },
          "metadata": {}
        }
      ]
    },
    {
      "cell_type": "code",
      "source": [
        "!pip install voila\n",
        "!jupyter serverextension enable --sys-prefix voila "
      ],
      "metadata": {
        "id": "IPhlJefiSlae"
      },
      "execution_count": null,
      "outputs": []
    }
  ]
}